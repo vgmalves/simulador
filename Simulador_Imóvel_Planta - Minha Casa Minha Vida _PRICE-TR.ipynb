{
 "cells": [
  {
   "cell_type": "markdown",
   "id": "c1401aca",
   "metadata": {},
   "source": [
    "### Simulador Imobiliário para Imóveis na Planta (Minha Casa Minha Vida)\n",
    "\n",
    "Protótipo de simulador criado com as informações e taxas baseadas nas condições de financiamento para o Programa Minha Casa Minha Vida fornecidos pela CEF.\n",
    "\n",
    "Os cálculos apresentados foram puramente baseados no conhecimento do autor e podem conter divergências com o simulador real, pois não levam em consideração cálculos de subsídio e nem bases de cálculo para recorte territorial. A base considerará o cálculo para grandes metrópoles, idade, valor da renda e desconto. A diferença maior está nas condições apresentadas com a taxa flutuante \"TR\"/\"Taxa Referêncial\", que consta no simulador a partir de um Web Scraping buscando o valor acumulado mais recente do mês anterior como base para atualização monetária e correções. Página 1.3.1 do Notebook.\n",
    "\n",
    "A intenção em criar um teste de simulador de financiamento é apenas poder incluir as variações das taxas flutuantes no valor da parcela final, com o intuito de chegar mais perto do valor real. Embora hajam infinitas questões e variações de valores, local, correções, o conceito por trás deste projeto é puramente experimental e não tem qualquer interesse em inutilizar ou questionar os meios/ métodos utilizados atualmente.\n"
   ]
  },
  {
   "cell_type": "markdown",
   "id": "ea3a0732",
   "metadata": {},
   "source": [
    "~x~"
   ]
  },
  {
   "cell_type": "code",
   "execution_count": null,
   "id": "891bb395",
   "metadata": {},
   "outputs": [],
   "source": [
    "import pandas as pd\n",
    "import numpy_financial as npf\n",
    "import requests\n",
    "from bs4 import BeautifulSoup\n",
    "from datetime import datetime, timedelta\n"
   ]
  },
  {
   "cell_type": "markdown",
   "id": "156437f1",
   "metadata": {},
   "source": [
    "### Condições Fictícias"
   ]
  },
  {
   "cell_type": "code",
   "execution_count": null,
   "id": "6226fd21",
   "metadata": {},
   "outputs": [],
   "source": [
    "# Perfil do Cliente\n",
    "\n",
    "# 2 Participantes, casados e com dependentes.\n",
    "# Renda Bruta familiar mensal de dois salários mínimos e meio: R$3530,00 (Base do Salário Mínimo: R$1412,00)\n",
    "# Possuem juntos de FGTS para utilizar na aquisição do primeiro imóvel: R$8.000,00\n",
    "# Não receberam desconto no imóvel por parte do construtor.\n",
    "# A data de nascimento do mais velho entre os dois participantes é de: 06/02/1987\n",
    "# Subsídio concedido pelo governo: R$4.254,00\n",
    "# Desconto total: FGTS + Subsídio = R$12.254,00\n",
    "# Valor do Imóvel:  R$190.000,00"
   ]
  },
  {
   "cell_type": "markdown",
   "id": "dca0a585",
   "metadata": {},
   "source": [
    "### 0 - Preenchimento dos Valores da Operação"
   ]
  },
  {
   "cell_type": "code",
   "execution_count": null,
   "id": "c063650f",
   "metadata": {},
   "outputs": [],
   "source": [
    "# Informações dos Valores\n",
    "\n",
    "valor_venda = float(input('Informe o Valor de Venda do Imóvel: '))\n",
    "valor_renda_bruta = float(input('Informe o Valor da Renda do Cliente:' ))\n",
    "desconto = float(input('Informe o valor TOTAL do desconto, caso haja (FGTS, Subsidio...): '))\n",
    "data_de_nascimento_cliente = input('Informe a data de Nascimento do Cliente no formato (DD/MM/AAAA): ')\n",
    "\n",
    "# Separar os valores da Data de Nascimento\n",
    "dia = int(data_de_nascimento_cliente[0:2])\n",
    "mes = int(data_de_nascimento_cliente[3:5])\n",
    "ano = int(data_de_nascimento_cliente[6:])\n",
    "\n"
   ]
  },
  {
   "cell_type": "markdown",
   "id": "a5bdf42b",
   "metadata": {},
   "source": [
    "### 1 - Idade do Cliente (Data de Nascimento)"
   ]
  },
  {
   "cell_type": "code",
   "execution_count": null,
   "id": "b7d00554",
   "metadata": {},
   "outputs": [],
   "source": [
    "# Definir a Idade do Cliente\n",
    "\n",
    "nascimento = datetime(ano, mes, dia) # Data de Nascimento\n",
    "um_mes = timedelta(days=30) # Valor de um mês com 30 dias\n",
    "hoje = datetime.today() # Data de Hoje\n",
    "diferenca = hoje - nascimento # Calcular a diferença entre a Data de Hoje e o Nascimento para obter o valor da idade\n",
    "total_dias = diferenca.days # Tranformar o valor da diferença para dias\n",
    "idade = (total_dias / 365) # Dividir o valor do total em dias por 365 dias (1 ano).\n",
    "idade = round(idade, 2) # Formatar para um valor com duas casas decimais\n",
    "\n",
    "# Separar os valores de mês e ano para buscar o valor acumulado mensal da TR.\n",
    "\n",
    "if hoje.month > 1:\n",
    "    mes_tr = hoje.month -1\n",
    "    ano_tr = str(hoje.year)\n",
    "else:\n",
    "    mes_tr = 12\n",
    "    ano_tr = str(hoje.year - 1)\n",
    "\n",
    "mes_tr_str = \"{:02}\".format(mes_tr)\n",
    "\n",
    "#print(mes_tr_str, ano_tr)"
   ]
  },
  {
   "cell_type": "markdown",
   "id": "9fd574ac",
   "metadata": {},
   "source": [
    "### 1.1 -  Verificação dos Prazos de acordo com a Idade informada"
   ]
  },
  {
   "cell_type": "code",
   "execution_count": null,
   "id": "6a1f9da3",
   "metadata": {},
   "outputs": [],
   "source": [
    "# Definir o prazo de financiamento do cliente\n",
    "\n",
    "idade_max = 80.6 # Prazo máximo para cálculo de idade financiamento 80 anos e 6 meses são subtraídos da idade do cliente.\n",
    "prazo_max = 360 # Prazo máximo de financiamento 360 meses (30 anos)\n",
    "\n",
    "meses = int((idade_max * 12) - (idade * 12)) # Cacular o tempo em meses\n",
    "\n",
    "# Definir as condições de prazo baseado na idade do cliente\n",
    "if meses < prazo_max:\n",
    "    meses = meses\n",
    "    if meses < 120:\n",
    "        meses = 0\n",
    "        #print('Não é possível financiar')\n",
    "    \n",
    "    #print(meses)\n",
    "else:\n",
    "    meses = prazo_max\n",
    "    #print(meses)\n",
    "\n"
   ]
  },
  {
   "cell_type": "markdown",
   "id": "1f77bef4",
   "metadata": {},
   "source": [
    "### 1.2 - Informações de valores dos Seguros DFI e MIP"
   ]
  },
  {
   "cell_type": "code",
   "execution_count": null,
   "id": "26bcdc66",
   "metadata": {},
   "outputs": [],
   "source": [
    "# Tabela base com os valores de alíquota do Seguro MIP (Morte por Invadez Permanente)\n",
    "\n",
    "# Aliquota MIP\n",
    "valor_aliquota = [0.000093, 0.000096, 0.000116,  0.000154,  \n",
    "                  0.000252,  0.000386,  0.000676,  0.001533,  \n",
    "                  0.002371,  0.003259,  0.004894,  0.005312] \n",
    "\n",
    "# Lista com os limites de idade referentes à alíquota\n",
    "idade_mip = [26, 31, 36, 41, 46, 51, 56, 61, 66, 71, 76, 80.6]\n",
    "\n",
    "# Alíquota base para o seguro de cobertura DFI (Danos Físicos ao Imóvel)\n",
    "seguro_dfi = 0.000079\n",
    "\n",
    "# Criar um DataFrame para visualizar as informações de seguro em uma Tabela.\n",
    "seguro_mip_idades = {'Alíquota MIP' : valor_aliquota,\n",
    "                    'Idade Máx' : idade_mip}\n",
    "\n",
    "df_seguro_mip_idades = pd.DataFrame(seguro_mip_idades)\n",
    "\n",
    "#df_seguro_mip_idades"
   ]
  },
  {
   "cell_type": "markdown",
   "id": "4e25fee2",
   "metadata": {},
   "source": [
    "### 1.3 - Definição das taxas de juros para utilizar na Operação de Financiamento"
   ]
  },
  {
   "cell_type": "code",
   "execution_count": null,
   "id": "d2fe376e",
   "metadata": {
    "scrolled": true
   },
   "outputs": [],
   "source": [
    "# Tabela base de Taxas de juros para os perfis de renda inferiores à R$4.400,01\n",
    "\n",
    "taxas_nominais = [0.05, 0.055, 0.06, 0.07, 0.081600] # Valores das Taxas Nominais definidas para os perfis de Renda\n",
    "renda_perfil = [2400, 3000, 3700, 4400, 8000] # Teto dos perfis de renda respectivos às taxas nominais\n",
    "\n",
    "perfil_renda_taxa = {'Taxa Nominal' : taxas_nominais,\n",
    "                    'Perfil de Renda (até)' : renda_perfil}\n",
    "\n",
    "# Criando um DataFrame para armazernar as informações do dicionário em uma Tabela.\n",
    "df_taxas = pd.DataFrame(perfil_renda_taxa)\n",
    "\n",
    "# Criando uma coluna com o valor das Taxas Efetivas utilizando a Nominal como base do cálculo\n",
    "df_taxas['Taxa Efetiva'] = ((1 + df_taxas['Taxa Nominal'] / 12) ** 12 -1).round(6) \n",
    "\n",
    "# Reordenando a Tabela de acordo com a ordem desejada.\n",
    "tabela_reordenada = ['Perfil de Renda (até)', 'Taxa Nominal', 'Taxa Efetiva']\n",
    "df_taxas = df_taxas.reindex(columns=tabela_reordenada)\n",
    "\n",
    "df_taxas"
   ]
  },
  {
   "cell_type": "markdown",
   "id": "3f8545da",
   "metadata": {},
   "source": [
    "### 1.3.1 - Buscar na Web a informação atualizada da TR (taxa referencial) acumulada do mês anterior"
   ]
  },
  {
   "cell_type": "code",
   "execution_count": null,
   "id": "e0685f9f",
   "metadata": {},
   "outputs": [],
   "source": [
    "# Trecho de Código para Buscar o valor acumulado da TR de acordo o período informado\n",
    "\n",
    "# Fazer a solicitação para a URL\n",
    "url = 'https://www.debit.com.br/tabelas/tr-bacen'\n",
    "response = requests.get(url)\n",
    "\n",
    "# Verificar se a solicitação foi bem-sucedida\n",
    "if response.status_code == 200:\n",
    "    # Processar o conteúdo da página usando BeautifulSoup\n",
    "    soup = BeautifulSoup(response.text, 'html.parser')\n",
    "    \n",
    "     # procurando o elemento <td> com o texto \"mês/ano\"\n",
    "    elemento_procurado = soup.find('td', string=f'{mes_tr_str}/{ano_tr}')\n",
    "\n",
    "    if elemento_procurado:\n",
    "        # Encontre o próximo elemento <td> sem um atributo específico\n",
    "        proximo_elemento = elemento_procurado.find_next('td', attrs={'data-v-789fe0da': True})\n",
    "\n",
    "        if proximo_elemento:\n",
    "            valor = proximo_elemento.text\n",
    "            \n",
    "valor = valor.replace(',', '.').replace('%', '')\n",
    "taxa_referencial = (float(valor) /100) # Apresentar valor unitário\n",
    "print('O Valor acumulado da TR do mês anterior é de:', taxa_referencial)\n"
   ]
  },
  {
   "cell_type": "markdown",
   "id": "89fd1612",
   "metadata": {},
   "source": [
    "### 1.4 - Valores da Operação"
   ]
  },
  {
   "cell_type": "code",
   "execution_count": null,
   "id": "b34482d5",
   "metadata": {},
   "outputs": [],
   "source": [
    "# Definir Valores da Operação\n",
    "\n",
    "if meses > 0 and valor_renda_bruta <= 8000 and valor_venda <= 350000:\n",
    "    \n",
    "    financiamento_max = valor_venda * 0.8\n",
    "    valor_entrada = valor_venda - (financiamento_max + desconto)\n",
    "    \n",
    "    if valor_entrada < 0:\n",
    "        financiamento_max = financiamento_max + valor_entrada\n",
    "        \n",
    "    parcela_amortizacao = financiamento_max / meses\n",
    "    \n",
    "    taxa_administracao = 0\n",
    "    if valor_renda_bruta > 4400:\n",
    "        taxa_administracao = 25\n",
    "        \n",
    "    for i in range(len(renda_perfil)):\n",
    "        \n",
    "        if valor_renda_bruta <= renda_perfil[i]:\n",
    "            juros_efetivos_a_a = taxa_referencial + df_taxas['Taxa Efetiva'][i]\n",
    "            break\n",
    "    \n",
    "    juros_efetivos_a_m = ((1 + juros_efetivos_a_a)**(1/12)) -1\n",
    "    \n",
    "    # Definir Valor da Parcela\n",
    "    pgto = npf.pmt(juros_efetivos_a_m, prazo_max, financiamento_max) * -1\n",
    "    \n",
    "    # Validador de Renda (Definido para saber se o cliente se adequa ao fluxo informado)\n",
    "    if valor_renda_bruta >= (pgto * 100) /30: \n",
    "        validador = 'OK'\n",
    "    else:\n",
    "        validador = 'NOT'\n",
    "\n",
    "else:\n",
    "    validador = 'NOT'\n",
    "    \n",
    "    "
   ]
  },
  {
   "cell_type": "markdown",
   "id": "62633ae6",
   "metadata": {},
   "source": [
    "### 1.5 Cálculo da Operação de Financiamento com parcelas mensais fixas* + seguros (PRICE TR)"
   ]
  },
  {
   "cell_type": "code",
   "execution_count": null,
   "id": "2a952eb7",
   "metadata": {},
   "outputs": [],
   "source": [
    "if meses > 0 and 'OK' in validador:\n",
    "    \n",
    "    # Definição inicial das listas e variáveis para utilizar no looping.\n",
    "    \n",
    "    saldo_total_fin = 0\n",
    "    saldo_devedor = financiamento_max\n",
    "    \n",
    "    amortizacao_mais_juros = []\n",
    "    seguro_tabela = []\n",
    "    prestacao_encargos = []\n",
    "    saldo_devedor_simulador = []\n",
    "    administracao = []\n",
    "    \n",
    "    for i in range(meses):\n",
    "        nascimento -= um_mes\n",
    "        idade_futuro = total_dias / 365\n",
    "        \n",
    "        saldo_devedor -= parcela_amortizacao\n",
    "        \n",
    "        for j in range(len(idade_mip)):\n",
    "            if idade_futuro <= idade_mip[j]:\n",
    "                aliquota_mip = valor_aliquota[j]\n",
    "                break\n",
    "        \n",
    "        valor_seguro = (saldo_devedor * aliquota_mip) + (saldo_devedor * seguro_dfi)\n",
    "        #valor_seguro = round(valor_seguro, 2)\n",
    "        \n",
    "        if saldo_devedor >= 0:\n",
    "            prestacao = pgto + valor_seguro + taxa_administracao\n",
    "            #saldo_devedor = round(saldo_devedor, 2)\n",
    "        else:\n",
    "            valor_seguro = 0\n",
    "            prestacao = pgto + valor_seguro + saldo_devedor + taxa_administracao\n",
    "            saldo_devedor = 0\n",
    "                \n",
    "        #print('{} - A + J: R${:.2f} + Seguro: R${:.2f} | Prestação: R${:.2f} | Saldo Devedor: R${:.2f}'.format(\n",
    "            #i+1, pgto, valor_seguro, prestacao, saldo_devedor))\n",
    "        \n",
    "        # Inserir as informações nas listas para gerar um DataFrame detalhado\n",
    "        amortizacao_mais_juros.append(round(pgto, 2))\n",
    "        seguro_tabela.append(round(valor_seguro, 2))\n",
    "        prestacao_encargos.append(round(prestacao, 2))\n",
    "        saldo_devedor_simulador.append(round(saldo_devedor, 2))\n",
    "        administracao.append(round(taxa_administracao, 2))\n",
    "        \n",
    "        tabela_de_financiamento = {'Amortizacao + Juros' : amortizacao_mais_juros,\n",
    "                                   'Seguros' : seguro_tabela,\n",
    "                                   'Taxa de Administração' : taxa_administracao,\n",
    "                                   'Encargos': prestacao_encargos,\n",
    "                                   'Saldo Devedor':saldo_devedor_simulador }\n",
    "        \n",
    "        saldo_total_fin += prestacao\n",
    "        \n",
    "    df_tabela_fin = pd.DataFrame(tabela_de_financiamento)\n",
    "    print('O Valor total acumulado ao longo de 360 meses foi de: R${:.2f}'.format(saldo_total_fin))\n",
    "    \n",
    "    if valor_entrada > 0:\n",
    "        print('O Cliente ainda deverá dar uma entrada no valor de: R${:.2f}'.format(valor_entrada))\n",
    "\n",
    "    # Salvar informações do DataFrame em uma Planilha Excel\n",
    "\n",
    "    df_tabela_fin.to_excel('tabela_fin.xlsx', sheet_name='Financiamento', index=None)\n",
    "    print('Uma planinha com o fluxo definido foi exportada com sucesso! =D')\n",
    "        \n",
    "else:\n",
    "    print('''\n",
    "    \n",
    "    Não foi possível realizar o fluxo para financiar o imóvel...\n",
    "    \n",
    "    Verifique se:\n",
    "    \n",
    "    1 -  A renda do seu cliente comporta o valor informado.\n",
    "    2 -  A renda do seu cliente está dentro do teto limite de até R$8.000,00.\n",
    "    3 -  O valor do imóvel do seu cliente está dentro do teto limite de até R$350.000,00.\n",
    "    4 -  O seu cliente tem idade para atingir o prazo mínimo do financiamento do imóvel.\n",
    "    \n",
    "    Obs: Caso o fluxo não se adeque às condições oferecidas pelo simulador, procure um especialista.\n",
    "    \n",
    "    ''')"
   ]
  }
 ],
 "metadata": {
  "kernelspec": {
   "display_name": "Python 3 (ipykernel)",
   "language": "python",
   "name": "python3"
  },
  "language_info": {
   "codemirror_mode": {
    "name": "ipython",
    "version": 3
   },
   "file_extension": ".py",
   "mimetype": "text/x-python",
   "name": "python",
   "nbconvert_exporter": "python",
   "pygments_lexer": "ipython3",
   "version": "3.10.12"
  }
 },
 "nbformat": 4,
 "nbformat_minor": 5
}
